{
 "cells": [
  {
   "cell_type": "code",
   "execution_count": 1,
   "id": "e1c2c481",
   "metadata": {},
   "outputs": [
    {
     "data": {
      "text/html": [
       "<style>\n",
       ".jp-LabShell {\n",
       "    display: none !important;\n",
       "}\n",
       "</style>\n"
      ],
      "text/plain": [
       "<IPython.core.display.HTML object>"
      ]
     },
     "metadata": {},
     "output_type": "display_data"
    }
   ],
   "source": [
    "%%html\n",
    "<style>\n",
    ".jp-LabShell {\n",
    "    display: none !important;\n",
    "}\n",
    "</style>"
   ]
  },
  {
   "cell_type": "code",
   "execution_count": 2,
   "id": "1e427f41",
   "metadata": {},
   "outputs": [],
   "source": [
    "import ipywidgets as widgets\n",
    "from IPython.display import display\n",
    "import plotly.express as px\n",
    "import pandas as pd\n",
    "import plotly.io as pio\n",
    "\n",
    "# Настройки для Voilà\n",
    "pio.renderers.default = 'notebook'\n"
   ]
  },
  {
   "cell_type": "code",
   "execution_count": 3,
   "id": "a6592c76",
   "metadata": {},
   "outputs": [
    {
     "data": {
      "application/vnd.jupyter.widget-view+json": {
       "model_id": "9720cd1c81e144408f029c8a9b984aae",
       "version_major": 2,
       "version_minor": 0
      },
      "text/plain": [
       "VBox(children=(Dropdown(description='Месяц:', options=('Все', 'март', 'февраль', 'январь'), value='Все'), Drop…"
      ]
     },
     "metadata": {},
     "output_type": "display_data"
    },
    {
     "data": {
      "application/vnd.jupyter.widget-view+json": {
       "model_id": "a58c8e40b2da4dfdb28c0f3562fef420",
       "version_major": 2,
       "version_minor": 0
      },
      "text/plain": [
       "Output()"
      ]
     },
     "metadata": {},
     "output_type": "display_data"
    }
   ],
   "source": [
    "\n",
    "# Загрузка данных (оставляем parquet)\n",
    "df = pd.read_parquet('data/data.parquet')  # Убедитесь, что путь правильный\n",
    "\n",
    "# Виджеты\n",
    "dropdown1 = widgets.Dropdown(\n",
    "    options=['Все'] + sorted(df['Месяц'].unique().tolist()),\n",
    "    description='Месяц:'\n",
    ")\n",
    "\n",
    "dropdown2 = widgets.Dropdown(\n",
    "    options=['Все'] + sorted(df['Направление'].unique().tolist()),\n",
    "    description='Направление:'\n",
    ")\n",
    "\n",
    "dropdown3 = widgets.Dropdown(\n",
    "    options=['Все'],\n",
    "    description='Станция:',\n",
    "    disabled=True\n",
    ")\n",
    "\n",
    "output = widgets.Output()\n",
    "\n",
    "def update_stations(change):\n",
    "    if dropdown2.value != 'Все':\n",
    "        stations = df[df['Направление'] == dropdown2.value]['Станция'].unique()\n",
    "        dropdown3.options = ['Все'] + sorted(stations.tolist())\n",
    "        dropdown3.disabled = False\n",
    "    else:\n",
    "        dropdown3.disabled = True\n",
    "    update_plot()\n",
    "\n",
    "def update_plot():\n",
    "    filtered = df.copy()\n",
    "    if dropdown1.value != 'Все':\n",
    "        filtered = filtered[filtered['Месяц'] == dropdown1.value]\n",
    "    if dropdown2.value != 'Все':\n",
    "        filtered = filtered[filtered['Направление'] == dropdown2.value]\n",
    "    if not dropdown3.disabled and dropdown3.value != 'Все':\n",
    "        filtered = filtered[filtered['Станция'] == dropdown3.value]\n",
    "    \n",
    "    with output:\n",
    "        output.clear_output()\n",
    "        fig = px.bar(\n",
    "            filtered,\n",
    "            x='Месяц',\n",
    "            y='Количество',\n",
    "            title=f\"Отмены: {dropdown2.value or 'Все направления'}\"\n",
    "        )\n",
    "        fig.show()\n",
    "\n",
    "dropdown1.observe(lambda _: update_plot(), 'value')\n",
    "dropdown2.observe(lambda _: update_stations(_), 'value')\n",
    "dropdown3.observe(lambda _: update_plot(), 'value')\n",
    "\n",
    "# Инициализация\n",
    "display(widgets.VBox([dropdown1, dropdown2, dropdown3]))\n",
    "display(output)\n",
    "update_plot()  # Первый запуск"
   ]
  }
 ],
 "metadata": {
  "kernelspec": {
   "display_name": "Python 3",
   "language": "python",
   "name": "python3"
  },
  "language_info": {
   "codemirror_mode": {
    "name": "ipython",
    "version": 3
   },
   "file_extension": ".py",
   "mimetype": "text/x-python",
   "name": "python",
   "nbconvert_exporter": "python",
   "pygments_lexer": "ipython3",
   "version": "3.11.9"
  }
 },
 "nbformat": 4,
 "nbformat_minor": 5
}
