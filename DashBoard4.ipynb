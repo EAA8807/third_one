{
 "cells": [
  {
   "cell_type": "code",
   "execution_count": 1,
   "id": "dc46b0b2",
   "metadata": {},
   "outputs": [],
   "source": [
    "import ipywidgets as widgets\n",
    "from IPython.display import display\n",
    "import plotly.express as px\n",
    "import pandas as pd\n",
    "import numpy as np\n",
    "import matplotlib.pyplot as plt\n",
    "\n",
    "import plotly.io as pio\n",
    "pio.renderers.default = 'notebook'  # или 'browser', 'colab', 'jupyterlab '"
   ]
  },
  {
   "cell_type": "code",
   "execution_count": 2,
   "id": "181f8bbc",
   "metadata": {},
   "outputs": [],
   "source": [
    "df=pd.read_parquet('data/data.parquet')"
   ]
  },
  {
   "cell_type": "code",
   "execution_count": 6,
   "id": "b94a0c7b",
   "metadata": {},
   "outputs": [
    {
     "data": {
      "application/vnd.jupyter.widget-view+json": {
       "model_id": "e19bc57e619149de85de1770878b817b",
       "version_major": 2,
       "version_minor": 0
      },
      "text/plain": [
       "HTML(value='<h1>📊 Отмены</h1>')"
      ]
     },
     "metadata": {},
     "output_type": "display_data"
    },
    {
     "data": {
      "application/vnd.jupyter.widget-view+json": {
       "model_id": "a82ced4ff4c34b8ba30b3d31837c959b",
       "version_major": 2,
       "version_minor": 0
      },
      "text/plain": [
       "VBox(children=(Dropdown(description='Месяц:', options=('Все', 'март', 'февраль', 'январь'), value='Все'), Drop…"
      ]
     },
     "metadata": {},
     "output_type": "display_data"
    },
    {
     "data": {
      "application/vnd.jupyter.widget-view+json": {
       "model_id": "f5328280cf0949c6aadf7a49ab9c7557",
       "version_major": 2,
       "version_minor": 0
      },
      "text/plain": [
       "Output()"
      ]
     },
     "metadata": {},
     "output_type": "display_data"
    },
    {
     "data": {
      "application/vnd.jupyter.widget-view+json": {
       "model_id": "dae8e4e6876844bfa5ce3eddf241af6e",
       "version_major": 2,
       "version_minor": 0
      },
      "text/plain": [
       "Output()"
      ]
     },
     "metadata": {},
     "output_type": "display_data"
    }
   ],
   "source": [
    "# Заголовок дашборда\n",
    "header = widgets.HTML(\"<h1>📊 Отмены</h1>\")\n",
    "display(header)\n",
    "\n",
    "# Создаем виджеты\n",
    "dropdown1 = widgets.Dropdown(\n",
    "    options=['Все'] + sorted(list(df['Месяц'].unique())),\n",
    "    description='Месяц:',\n",
    "    value='Все'\n",
    ")\n",
    "\n",
    "dropdown2 = widgets.Dropdown(\n",
    "    options=['Все'] + sorted(list(df['Направление'].unique())),\n",
    "    description='Направление:',\n",
    "    value='Все'\n",
    ")\n",
    "\n",
    "dropdown3 = widgets.Dropdown(\n",
    "    options=[],\n",
    "    description='Станция:',\n",
    "    disabled=True\n",
    ")\n",
    "\n",
    "# Создаем выход для графика и таблицы\n",
    "graph_output = widgets.Output()\n",
    "table_output = widgets.Output()\n",
    "\n",
    "def update_stations(change):\n",
    "    \"\"\"Обновляет список станций при изменении направления\"\"\"\n",
    "    if dropdown2.value != 'Все':\n",
    "        available_stations = df[df['Направление'] == dropdown2.value]['Станция'].unique()\n",
    "        dropdown3.options = ['Все'] + sorted(list(available_stations))\n",
    "        dropdown3.disabled = False\n",
    "    else:\n",
    "        dropdown3.options = []\n",
    "        dropdown3.disabled = True\n",
    "    update_visualization(None)\n",
    "\n",
    "def update_visualization(change):\n",
    "    with graph_output:\n",
    "        graph_output.clear_output(wait=True)\n",
    "        \n",
    "        # Получаем текущие значения\n",
    "        month = dropdown1.value\n",
    "        direction = dropdown2.value\n",
    "        station = dropdown3.value if not dropdown3.disabled else None\n",
    "        \n",
    "        # Фильтруем данные\n",
    "        filtered_df = df.copy()\n",
    "        \n",
    "        if direction != 'Все':\n",
    "            filtered_df = filtered_df[filtered_df['Направление'] == direction]\n",
    "            \n",
    "            if station and station != 'Все':\n",
    "                filtered_df = filtered_df[filtered_df['Станция'] == station]\n",
    "        \n",
    "        # Группируем по месяцам и суммируем количество\n",
    "        grouped_data = filtered_df.groupby('Месяц', as_index=False)['Количество'].sum()\n",
    "        \n",
    "        # Создаем интерактивный график\n",
    "        fig = px.bar(\n",
    "        grouped_data,\n",
    "        x='Месяц',\n",
    "        y='Количество',\n",
    "        text='Количество',\n",
    "        title=f\"Отмены {'по станции ' + str(station) if station and station != 'Все' else 'по всем станциям'}\" + \n",
    "             f\"{' за ' + str(month) if month != 'Все' else ' по месяцам'}\" +\n",
    "             f\"{' (Направление: ' + str(direction) + ')' if direction != 'Все' else ''}\",\n",
    "        color_discrete_sequence=[\"#6a35be\"]\n",
    "        # color='Количество',  \n",
    "        # color_continuous_scale='cividis' \n",
    "        )\n",
    "\n",
    "        # Настраиваем внешний вид\n",
    "        fig.update_traces(texttemplate='%{text:,}', textposition='outside')\n",
    "        fig.update_layout(\n",
    "            width=800,\n",
    "            height=500,\n",
    "            uniformtext_minsize=8,\n",
    "            uniformtext_mode='hide',\n",
    "            yaxis_title='Количество отмен',\n",
    "            xaxis_title='Месяц',\n",
    "            hovermode='x unified'\n",
    "        )\n",
    "        \n",
    "        # Если выбран конкретный месяц, показываем только один столбец\n",
    "        if month != 'Все':\n",
    "            fig.update_xaxes(range=[month, month])\n",
    "        \n",
    "        display(fig)\n",
    "    \n",
    "    with table_output:\n",
    "        table_output.clear_output(wait=True)\n",
    "        if not filtered_df.empty:\n",
    "            display(filtered_df.groupby('Месяц', as_index=False)['Количество'].sum().style.format({'Количество': '{:,}'}))\n",
    "\n",
    "# Подписываемся на изменения\n",
    "dropdown1.observe(update_visualization, names='value')\n",
    "dropdown2.observe(update_stations, names='value')\n",
    "dropdown3.observe(update_visualization, names='value')\n",
    "\n",
    "# Отображаем все элементы управления\n",
    "controls = widgets.VBox([\n",
    "    dropdown1,\n",
    "    dropdown2,\n",
    "    dropdown3\n",
    "])\n",
    "\n",
    "display(controls)\n",
    "display(graph_output)\n",
    "display(table_output)\n",
    "\n",
    "# Инициализируем вывод\n",
    "update_visualization(None)"
   ]
  }
 ],
 "metadata": {
  "kernelspec": {
   "display_name": "Python 3",
   "language": "python",
   "name": "python3"
  },
  "language_info": {
   "codemirror_mode": {
    "name": "ipython",
    "version": 3
   },
   "file_extension": ".py",
   "mimetype": "text/x-python",
   "name": "python",
   "nbconvert_exporter": "python",
   "pygments_lexer": "ipython3",
   "version": "3.11.9"
  }
 },
 "nbformat": 4,
 "nbformat_minor": 5
}
